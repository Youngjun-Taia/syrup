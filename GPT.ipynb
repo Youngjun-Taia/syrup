{
 "cells": [
  {
   "cell_type": "code",
   "execution_count": 1,
   "metadata": {},
   "outputs": [],
   "source": [
    "# 필요한 라이브러리 재로드\n",
    "import pandas as pd\n",
    "from datetime import datetime\n",
    "########zzzz\n"
   ]
  },
  {
   "cell_type": "code",
   "execution_count": 2,
   "metadata": {},
   "outputs": [],
   "source": [
    "# 데이터 재로드\n",
    "data_sanji = pd.read_csv(\"C:/Users/medici/Desktop/Prediction/open (1)/train/meta/TRAIN_산지공판장_2018-2021.csv\")\n",
    "data_domestic = pd.read_csv(\"C:/Users/medici/Desktop/Prediction/open (1)/train/meta/TRAIN_전국도매_2018-2021.csv\")"
   ]
  },
  {
   "cell_type": "code",
   "execution_count": 3,
   "metadata": {},
   "outputs": [],
   "source": [
    "# 날짜 형식 변환 함수 정의\n",
    "def convert_date_format(date_str):\n",
    "    year_month = date_str[:6]\n",
    "    period = date_str[6:]\n",
    "    month_start_date = datetime.strptime(year_month, '%Y%m')\n",
    "    \n",
    "    if '상순' in period:\n",
    "        return month_start_date.replace(day=1).strftime('%Y-%m-%d')\n",
    "    elif '중순' in period:\n",
    "        return month_start_date.replace(day=11).strftime('%Y-%m-%d')\n",
    "    elif '하순' in period:\n",
    "        return month_start_date.replace(day=21).strftime('%Y-%m-%d')\n",
    "    else:\n",
    "        return date_str\n",
    "\n",
    "# 날짜 형식 변환 적용\n",
    "data_sanji['시점'] = data_sanji['시점'].apply(convert_date_format)\n",
    "data_domestic['시점'] = data_domestic['시점'].apply(convert_date_format)"
   ]
  },
  {
   "cell_type": "code",
   "execution_count": 4,
   "metadata": {},
   "outputs": [],
   "source": [
    "# 두 데이터셋 병합: 시점, 품목명, 품종명을 기준으로 병합\n",
    "merged_data = pd.merge(\n",
    "    data_sanji, data_domestic,\n",
    "    on=['시점', '품목명', '품종명'],\n",
    "    how='inner',\n",
    "    suffixes=('_산지', '_도매')\n",
    ")"
   ]
  },
  {
   "cell_type": "code",
   "execution_count": 6,
   "metadata": {},
   "outputs": [
    {
     "ename": "ModuleNotFoundError",
     "evalue": "No module named 'ace_tools'",
     "output_type": "error",
     "traceback": [
      "\u001b[1;31m---------------------------------------------------------------------------\u001b[0m",
      "\u001b[1;31mModuleNotFoundError\u001b[0m                       Traceback (most recent call last)",
      "Cell \u001b[1;32mIn[6], line 2\u001b[0m\n\u001b[0;32m      1\u001b[0m \u001b[38;5;66;03m# 병합된 데이터 표시\u001b[39;00m\n\u001b[1;32m----> 2\u001b[0m \u001b[38;5;28;01mimport\u001b[39;00m \u001b[38;5;21;01mace_tools\u001b[39;00m \u001b[38;5;28;01mas\u001b[39;00m \u001b[38;5;21;01mtools\u001b[39;00m\n\u001b[0;32m      4\u001b[0m tools\u001b[38;5;241m.\u001b[39mdisplay_dataframe_to_user(name\u001b[38;5;241m=\u001b[39m\u001b[38;5;124m\"\u001b[39m\u001b[38;5;124m병합된 산지공판장과 전국도매 데이터\u001b[39m\u001b[38;5;124m\"\u001b[39m, dataframe\u001b[38;5;241m=\u001b[39mmerged_data)\n",
      "\u001b[1;31mModuleNotFoundError\u001b[0m: No module named 'ace_tools'"
     ]
    }
   ],
   "source": [
    "# 병합된 데이터 표시\n",
    "import ace_tools as tools\n",
    "\n",
    "tools.display_dataframe_to_user(name=\"병합된 산지공판장과 전국도매 데이터\", dataframe=merged_data)"
   ]
  },
  {
   "cell_type": "code",
   "execution_count": null,
   "metadata": {},
   "outputs": [],
   "source": []
  }
 ],
 "metadata": {
  "kernelspec": {
   "display_name": "ai",
   "language": "python",
   "name": "python3"
  },
  "language_info": {
   "codemirror_mode": {
    "name": "ipython",
    "version": 3
   },
   "file_extension": ".py",
   "mimetype": "text/x-python",
   "name": "python",
   "nbconvert_exporter": "python",
   "pygments_lexer": "ipython3",
   "version": "3.12.5"
  }
 },
 "nbformat": 4,
 "nbformat_minor": 2
}
